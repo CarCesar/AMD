{
 "cells": [
  {
   "cell_type": "markdown",
   "metadata": {},
   "source": [
    "## Introduction to Data Science\n",
    "\n",
    "## The CRISP-DM approach to Data Science Tasks\n",
    "\n",
    "### Carlos César e André Costa\n",
    "[Nosso Git](https://github.com/CarCesar/AMD.git)"
   ]
  },
  {
   "cell_type": "markdown",
   "metadata": {},
   "source": [
    "_________________________\n",
    "## I. Business Understanding\n",
    "                    \n",
    "#### The Business Understanding phase focuses on understanding the objectives and requirements of the project.  \n",
    "+ Determine business objectives:  \n",
    "\n",
    "  - O projeto visa determinar os futuros resultados dos times na Série B do Campeonato Brasileiro, buscando predizer quais times serão mais bem sucedidos baseando se nos seus índices em campo, como % de Passes certos, Posse de bola, Finalizações e outros.\n",
    "\n",
    "\n",
    "+ Assess situation:  \n",
    "\n",
    "  - O Campeonato Brasileiro Série B é disputado por 20  Clubes ao longo de 38 rodadas, em um sistema de pontos corridos, com turno e returno, em que todos os times jogam contra todos os outros. No final, os 4 primeiros são promovidos para a Série A do Campeonato, e os 4 últimos rebaixados para Serie C.\n",
    "\n",
    "\n",
    "+ Determine data mining goals:  \n",
    "\n",
    "  - Os dados do Campeonato atual e de versões anteriores serão adquiridos através da API do Footstats e/ou do site https://fbref.com/\n",
    "\n",
    "\n",
    "+ Produce project plan:  \n",
    "  - Obter os dados em sites esportivos\n",
    "  - Verificar se nossos entendimentos de negócio estão corretos. \n",
    "     - Caso sim, limpar os dados.\n",
    "     - Caso não, voltar e redefini-lós.\n",
    "  - Então, fazer um modelo de regressão para determinar posição.\n",
    "  - Se possivel, pensamos em fazer um classificador \"Sobe\" ou \"Não Sobe\".\n",
    "  - Ficar rico em Sites de Aposta.\n"
   ]
  },
  {
   "cell_type": "code",
   "execution_count": null,
   "metadata": {},
   "outputs": [],
   "source": []
  },
  {
   "cell_type": "markdown",
   "metadata": {},
   "source": [
    "## II. Data Understanding  \n",
    "\n",
    "+ Collect initial data:  \n",
    "+ Describe data:  \n",
    "+ Explore data:  \n",
    "+ Verify data quality:  "
   ]
  },
  {
   "cell_type": "code",
   "execution_count": null,
   "metadata": {},
   "outputs": [],
   "source": []
  },
  {
   "cell_type": "markdown",
   "metadata": {},
   "source": [
    "## III. Data Preparation\n",
    "\n",
    "+ Select data:   \n",
    "+ Clean data:   \n",
    "+ Construct data/transform data/feature engineering:   \n",
    "+ Integrate data:   \n",
    "+ (Re) Format data:   "
   ]
  },
  {
   "cell_type": "code",
   "execution_count": null,
   "metadata": {},
   "outputs": [],
   "source": []
  },
  {
   "cell_type": "markdown",
   "metadata": {},
   "source": [
    "## IV. Modeling\n",
    "\n",
    "+ Select modeling techniques: \n",
    "+ Generate test design: \n",
    "+ Build model: \n",
    "+ Assess model:  "
   ]
  },
  {
   "cell_type": "code",
   "execution_count": null,
   "metadata": {},
   "outputs": [],
   "source": []
  },
  {
   "cell_type": "markdown",
   "metadata": {},
   "source": [
    "## V. Evaluation                    \n",
    "\n",
    "+ Evaluate results: \n",
    "+ Review process: \n",
    "+ Determine next steps: "
   ]
  },
  {
   "cell_type": "code",
   "execution_count": null,
   "metadata": {},
   "outputs": [],
   "source": []
  },
  {
   "cell_type": "markdown",
   "metadata": {},
   "source": [
    "## VI. Deployment\n",
    "\n",
    "+ Plan deployment: \n",
    "+ Plan monitoring and maintenance: \n",
    "+ Produce final report: \n",
    "+ Review project: "
   ]
  },
  {
   "cell_type": "code",
   "execution_count": null,
   "metadata": {},
   "outputs": [],
   "source": []
  }
 ],
 "metadata": {
  "kernelspec": {
   "display_name": "Python 3",
   "language": "python",
   "name": "python3"
  },
  "language_info": {
   "codemirror_mode": {
    "name": "ipython",
    "version": 3
   },
   "file_extension": ".py",
   "mimetype": "text/x-python",
   "name": "python",
   "nbconvert_exporter": "python",
   "pygments_lexer": "ipython3",
   "version": "3.8.8"
  }
 },
 "nbformat": 4,
 "nbformat_minor": 4
}
